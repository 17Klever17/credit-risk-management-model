{
 "cells": [
  {
   "cell_type": "raw",
   "id": "c7c957fc-6118-48bf-94c3-23f775f48886",
   "metadata": {},
   "source": [
    "Обучение модели "
   ]
  },
  {
   "cell_type": "code",
   "execution_count": 26,
   "id": "164fc5c0-ac7a-4e96-8404-c5d267eac89b",
   "metadata": {},
   "outputs": [],
   "source": [
    "import pandas as pd \n",
    "import seaborn as sns\n",
    "import optuna\n",
    "import numpy as np\n",
    "import itertools\n",
    "import dill\n",
    "\n",
    "from sklearn.ensemble import RandomForestClassifier\n",
    "from sklearn.linear_model import LogisticRegression\n",
    "from catboost import CatBoostClassifier\n",
    "from sklearn.preprocessing import MinMaxScaler, FunctionTransformer\n",
    "from sklearn.model_selection import train_test_split, cross_val_score\n",
    "from sklearn.metrics import roc_auc_score, roc_curve, precision_recall_curve, auc, confusion_matrix, classification_report\n",
    "from matplotlib import pyplot as plt\n",
    "from optuna.pruners import HyperbandPruner\n",
    "from sklearn.pipeline import Pipeline\n",
    "from sklearn.compose import ColumnTransformer, make_column_selector\n",
    "import warnings\n",
    "warnings.filterwarnings(\"ignore\")\n",
    "optuna.logging.set_verbosity(optuna.logging.WARNING)\n",
    "from datetime import datetime"
   ]
  },
  {
   "cell_type": "code",
   "execution_count": 34,
   "id": "6fee5f7f-4acc-4034-8bf3-2c98b4815c23",
   "metadata": {},
   "outputs": [
    {
     "ename": "FileNotFoundError",
     "evalue": "[Errno 2] No such file or directory: 'train_data/df_final.parquet'",
     "output_type": "error",
     "traceback": [
      "\u001b[0;31m---------------------------------------------------------------------------\u001b[0m",
      "\u001b[0;31mFileNotFoundError\u001b[0m                         Traceback (most recent call last)",
      "Cell \u001b[0;32mIn[34], line 2\u001b[0m\n\u001b[1;32m      1\u001b[0m path \u001b[38;5;241m=\u001b[39m \u001b[38;5;124m'\u001b[39m\u001b[38;5;124mtrain_data/\u001b[39m\u001b[38;5;124m'\u001b[39m\n\u001b[0;32m----> 2\u001b[0m df_final \u001b[38;5;241m=\u001b[39m pd\u001b[38;5;241m.\u001b[39mread_parquet(path\u001b[38;5;241m+\u001b[39m\u001b[38;5;124m'\u001b[39m\u001b[38;5;124mdf_final.parquet\u001b[39m\u001b[38;5;124m'\u001b[39m)\n\u001b[1;32m      3\u001b[0m \u001b[38;5;28mprint\u001b[39m(df_final\u001b[38;5;241m.\u001b[39mshape)\n\u001b[1;32m      4\u001b[0m df_final\u001b[38;5;241m.\u001b[39mhead()\n",
      "File \u001b[0;32m/opt/anaconda3/lib/python3.12/site-packages/pandas/io/parquet.py:667\u001b[0m, in \u001b[0;36mread_parquet\u001b[0;34m(path, engine, columns, storage_options, use_nullable_dtypes, dtype_backend, filesystem, filters, **kwargs)\u001b[0m\n\u001b[1;32m    664\u001b[0m     use_nullable_dtypes \u001b[38;5;241m=\u001b[39m \u001b[38;5;28;01mFalse\u001b[39;00m\n\u001b[1;32m    665\u001b[0m check_dtype_backend(dtype_backend)\n\u001b[0;32m--> 667\u001b[0m \u001b[38;5;28;01mreturn\u001b[39;00m impl\u001b[38;5;241m.\u001b[39mread(\n\u001b[1;32m    668\u001b[0m     path,\n\u001b[1;32m    669\u001b[0m     columns\u001b[38;5;241m=\u001b[39mcolumns,\n\u001b[1;32m    670\u001b[0m     filters\u001b[38;5;241m=\u001b[39mfilters,\n\u001b[1;32m    671\u001b[0m     storage_options\u001b[38;5;241m=\u001b[39mstorage_options,\n\u001b[1;32m    672\u001b[0m     use_nullable_dtypes\u001b[38;5;241m=\u001b[39muse_nullable_dtypes,\n\u001b[1;32m    673\u001b[0m     dtype_backend\u001b[38;5;241m=\u001b[39mdtype_backend,\n\u001b[1;32m    674\u001b[0m     filesystem\u001b[38;5;241m=\u001b[39mfilesystem,\n\u001b[1;32m    675\u001b[0m     \u001b[38;5;241m*\u001b[39m\u001b[38;5;241m*\u001b[39mkwargs,\n\u001b[1;32m    676\u001b[0m )\n",
      "File \u001b[0;32m/opt/anaconda3/lib/python3.12/site-packages/pandas/io/parquet.py:267\u001b[0m, in \u001b[0;36mPyArrowImpl.read\u001b[0;34m(self, path, columns, filters, use_nullable_dtypes, dtype_backend, storage_options, filesystem, **kwargs)\u001b[0m\n\u001b[1;32m    264\u001b[0m \u001b[38;5;28;01mif\u001b[39;00m manager \u001b[38;5;241m==\u001b[39m \u001b[38;5;124m\"\u001b[39m\u001b[38;5;124marray\u001b[39m\u001b[38;5;124m\"\u001b[39m:\n\u001b[1;32m    265\u001b[0m     to_pandas_kwargs[\u001b[38;5;124m\"\u001b[39m\u001b[38;5;124msplit_blocks\u001b[39m\u001b[38;5;124m\"\u001b[39m] \u001b[38;5;241m=\u001b[39m \u001b[38;5;28;01mTrue\u001b[39;00m  \u001b[38;5;66;03m# type: ignore[assignment]\u001b[39;00m\n\u001b[0;32m--> 267\u001b[0m path_or_handle, handles, filesystem \u001b[38;5;241m=\u001b[39m _get_path_or_handle(\n\u001b[1;32m    268\u001b[0m     path,\n\u001b[1;32m    269\u001b[0m     filesystem,\n\u001b[1;32m    270\u001b[0m     storage_options\u001b[38;5;241m=\u001b[39mstorage_options,\n\u001b[1;32m    271\u001b[0m     mode\u001b[38;5;241m=\u001b[39m\u001b[38;5;124m\"\u001b[39m\u001b[38;5;124mrb\u001b[39m\u001b[38;5;124m\"\u001b[39m,\n\u001b[1;32m    272\u001b[0m )\n\u001b[1;32m    273\u001b[0m \u001b[38;5;28;01mtry\u001b[39;00m:\n\u001b[1;32m    274\u001b[0m     pa_table \u001b[38;5;241m=\u001b[39m \u001b[38;5;28mself\u001b[39m\u001b[38;5;241m.\u001b[39mapi\u001b[38;5;241m.\u001b[39mparquet\u001b[38;5;241m.\u001b[39mread_table(\n\u001b[1;32m    275\u001b[0m         path_or_handle,\n\u001b[1;32m    276\u001b[0m         columns\u001b[38;5;241m=\u001b[39mcolumns,\n\u001b[0;32m   (...)\u001b[0m\n\u001b[1;32m    279\u001b[0m         \u001b[38;5;241m*\u001b[39m\u001b[38;5;241m*\u001b[39mkwargs,\n\u001b[1;32m    280\u001b[0m     )\n",
      "File \u001b[0;32m/opt/anaconda3/lib/python3.12/site-packages/pandas/io/parquet.py:140\u001b[0m, in \u001b[0;36m_get_path_or_handle\u001b[0;34m(path, fs, storage_options, mode, is_dir)\u001b[0m\n\u001b[1;32m    130\u001b[0m handles \u001b[38;5;241m=\u001b[39m \u001b[38;5;28;01mNone\u001b[39;00m\n\u001b[1;32m    131\u001b[0m \u001b[38;5;28;01mif\u001b[39;00m (\n\u001b[1;32m    132\u001b[0m     \u001b[38;5;129;01mnot\u001b[39;00m fs\n\u001b[1;32m    133\u001b[0m     \u001b[38;5;129;01mand\u001b[39;00m \u001b[38;5;129;01mnot\u001b[39;00m is_dir\n\u001b[0;32m   (...)\u001b[0m\n\u001b[1;32m    138\u001b[0m     \u001b[38;5;66;03m# fsspec resources can also point to directories\u001b[39;00m\n\u001b[1;32m    139\u001b[0m     \u001b[38;5;66;03m# this branch is used for example when reading from non-fsspec URLs\u001b[39;00m\n\u001b[0;32m--> 140\u001b[0m     handles \u001b[38;5;241m=\u001b[39m get_handle(\n\u001b[1;32m    141\u001b[0m         path_or_handle, mode, is_text\u001b[38;5;241m=\u001b[39m\u001b[38;5;28;01mFalse\u001b[39;00m, storage_options\u001b[38;5;241m=\u001b[39mstorage_options\n\u001b[1;32m    142\u001b[0m     )\n\u001b[1;32m    143\u001b[0m     fs \u001b[38;5;241m=\u001b[39m \u001b[38;5;28;01mNone\u001b[39;00m\n\u001b[1;32m    144\u001b[0m     path_or_handle \u001b[38;5;241m=\u001b[39m handles\u001b[38;5;241m.\u001b[39mhandle\n",
      "File \u001b[0;32m/opt/anaconda3/lib/python3.12/site-packages/pandas/io/common.py:882\u001b[0m, in \u001b[0;36mget_handle\u001b[0;34m(path_or_buf, mode, encoding, compression, memory_map, is_text, errors, storage_options)\u001b[0m\n\u001b[1;32m    873\u001b[0m         handle \u001b[38;5;241m=\u001b[39m \u001b[38;5;28mopen\u001b[39m(\n\u001b[1;32m    874\u001b[0m             handle,\n\u001b[1;32m    875\u001b[0m             ioargs\u001b[38;5;241m.\u001b[39mmode,\n\u001b[0;32m   (...)\u001b[0m\n\u001b[1;32m    878\u001b[0m             newline\u001b[38;5;241m=\u001b[39m\u001b[38;5;124m\"\u001b[39m\u001b[38;5;124m\"\u001b[39m,\n\u001b[1;32m    879\u001b[0m         )\n\u001b[1;32m    880\u001b[0m     \u001b[38;5;28;01melse\u001b[39;00m:\n\u001b[1;32m    881\u001b[0m         \u001b[38;5;66;03m# Binary mode\u001b[39;00m\n\u001b[0;32m--> 882\u001b[0m         handle \u001b[38;5;241m=\u001b[39m \u001b[38;5;28mopen\u001b[39m(handle, ioargs\u001b[38;5;241m.\u001b[39mmode)\n\u001b[1;32m    883\u001b[0m     handles\u001b[38;5;241m.\u001b[39mappend(handle)\n\u001b[1;32m    885\u001b[0m \u001b[38;5;66;03m# Convert BytesIO or file objects passed with an encoding\u001b[39;00m\n",
      "\u001b[0;31mFileNotFoundError\u001b[0m: [Errno 2] No such file or directory: 'train_data/df_final.parquet'"
     ]
    }
   ],
   "source": [
    "path = 'train_data/'\n",
    "df_final = pd.read_parquet(path+'df_final.parquet')\n",
    "print(df_final.shape)\n",
    "df_final.head()"
   ]
  },
  {
   "cell_type": "code",
   "execution_count": null,
   "id": "dd8e5505-e29c-4ca7-a73f-9ca510eec004",
   "metadata": {},
   "outputs": [],
   "source": [
    "df_final.info()"
   ]
  },
  {
   "cell_type": "code",
   "execution_count": null,
   "id": "9ec4b5eb-bf3b-47ab-a644-34808a618647",
   "metadata": {},
   "outputs": [],
   "source": [
    "df_final.flag.value_counts(normalize=True)"
   ]
  },
  {
   "cell_type": "raw",
   "id": "62777b0e-61d1-434f-a51a-51ef91e8948b",
   "metadata": {},
   "source": [
    "Наблюдается дисбаланс классов (~ 1 к 28), для решения проблемы дисбаланса классов воспользуемся в будущем тюнингом гиперпараметра class_weights."
   ]
  },
  {
   "cell_type": "code",
   "execution_count": null,
   "id": "1e796393-be72-449f-88dc-c710df770fed",
   "metadata": {},
   "outputs": [],
   "source": [
    "X = df_final.drop(['flag'], axis=1)\n",
    "y = df_final.flag\n",
    "\n",
    "X_train, X_test, y_train, y_test = train_test_split(X, y, stratify=y,\n",
    "                                                   test_size =0.2,\n",
    "                                                   random_state=42)\n",
    "\n"
   ]
  },
  {
   "cell_type": "code",
   "execution_count": null,
   "id": "e46a0c43-e0ef-449c-9330-173562fee64a",
   "metadata": {},
   "outputs": [],
   "source": [
    "models = [\n",
    "    LogisticRegression(random_state=42),\n",
    "    RandomForestClassifier(random_state=42),\n",
    "    CatBoostClassifier(random_seed=42)\n",
    "]"
   ]
  },
  {
   "cell_type": "code",
   "execution_count": null,
   "id": "fe1deae1-9a01-4781-87f2-c35bb421f0f7",
   "metadata": {},
   "outputs": [],
   "source": [
    "for model in models:\n",
    "    start = datetime.now()\n",
    "    print('Текущее время:', start)\n",
    "    score = cross_val_score(model, X_train.drop(columns=['id']), y_train, \n",
    "                           scoring='roc_auc', cv=3, n_jobs=-1)\n",
    "    print(' время ', datetime.now()-start)\n",
    "    print('Модель: ', model)\n",
    "    print('Roc-auc:', round(score.mean(),4))\n",
    "    print()"
   ]
  },
  {
   "cell_type": "code",
   "execution_count": 37,
   "id": "0ecc6669-3425-4cd3-945b-1a48b797978c",
   "metadata": {},
   "outputs": [],
   "source": [
    "# CatBoostClassifier дала лучшие результаты"
   ]
  },
  {
   "cell_type": "raw",
   "id": "1815dd1d-3a38-4a0f-8e10-1a11d9678d1d",
   "metadata": {},
   "source": [
    "CatBoostClassifier"
   ]
  },
  {
   "cell_type": "code",
   "execution_count": null,
   "id": "5c35adfa-c085-41c6-8cdc-5f8b5cd7b477",
   "metadata": {},
   "outputs": [],
   "source": [
    "model = CatBoostClassifier(random_seed=42)"
   ]
  },
  {
   "cell_type": "code",
   "execution_count": null,
   "id": "85610cc4-1357-42cb-a884-0e8925343ed8",
   "metadata": {},
   "outputs": [],
   "source": [
    "def filter_data(df):\n",
    "    df_temp = df.copy()\n",
    "    columns_to_drop = ['id']\n",
    "\n",
    "    return df_temp.drop(columns_to_drop, axis=1)"
   ]
  },
  {
   "cell_type": "code",
   "execution_count": null,
   "id": "3866d4d1-474c-45ec-ae34-e7fbac2a4827",
   "metadata": {},
   "outputs": [],
   "source": [
    "def new_features(df):\n",
    "    df_temp = df.copy()\n",
    "    df_temp['is_zero_loans_risk'] = df_temp[['is_zero_loans5',\n",
    "                                             'is_zero_loans530',\n",
    "                                             'is_zero_loans3060',\n",
    "                                             'is_zero_loans6090',\n",
    "                                             'is_zero_loans90']].lt(0.6).sum(axis=1)\n",
    "    df_temp['is_zero_loans_points'] = df_temp['is_zero_loans5']*1 + df_temp['is_zero_loans530']*1.5 + df_temp['is_zero_loans3060']*2 + df_temp['is_zero_loans6090']*2.5 + df_temp['is_zero_loans90']*3\n",
    "\n",
    "    return df_temp"
   ]
  },
  {
   "cell_type": "code",
   "execution_count": null,
   "id": "2411aa6d-de2b-44f7-90a9-f41dd729017e",
   "metadata": {},
   "outputs": [],
   "source": [
    "preprocessor = Pipeline(steps=[\n",
    "    ('filter', FunctionTransformer(filter_data)),\n",
    "    ('new_features', FunctionTransformer(new_features))\n",
    "])"
   ]
  },
  {
   "cell_type": "code",
   "execution_count": null,
   "id": "be42a5a6-ae90-4beb-a5f3-e7c0ca113f1a",
   "metadata": {},
   "outputs": [],
   "source": [
    "def objective(trial):    \n",
    "   \n",
    "    params = {\n",
    "        \"objective\": trial.suggest_categorical(\"objective\", [\"CrossEntropy\"]),\n",
    "        \"learning_rate\": trial.suggest_float(\"learning_rate\", 0.005, 0.5),\n",
    "        \"min_data_in_leaf\": trial.suggest_int(\"min_data_in_leaf\", 35, 40),\n",
    "        \"depth\": trial.suggest_int(\"depth\", 8, 10),\n",
    "        }\n",
    "                        \n",
    "    model.set_params(**params)\n",
    "    \n",
    "    pipeline = Pipeline(steps=[\n",
    "        ('preprocessor', preprocessor),\n",
    "        ('classifier', model)\n",
    "    ])\n",
    "    \n",
    "    start= datetime.now()\n",
    "    print('Текущая время ', start)\n",
    "    score = cross_val_score(pipeline, X_train, y_train, cv=3, n_jobs=-1, scoring= 'roc_auc').mean()\n",
    "    print(' время ', datetime.now()-start)\n",
    "    return score\n",
    "\n",
    "study = optuna.create_study(direction=\"maximize\", pruner=HyperbandPruner)\n",
    "study.optimize(objective, n_trials=100)\n",
    "\n",
    "print('Лучшие гиперпараметры:', study.best_trial.params)\n",
    "print('Лучшее значение roc-auc:', study.best_trial.value)\n"
   ]
  },
  {
   "cell_type": "code",
   "execution_count": null,
   "id": "3400f1a7-fbf6-47e7-a045-faeba9e1cd91",
   "metadata": {},
   "outputs": [],
   "source": [
    "catboost_best = CatBoostClassifier(max_depth=9, objective='CrossEntropy', min_data_in_leaf=37, \n",
    "                                   learning_rate=0.06553798310275494, random_seed=42)\n"
   ]
  },
  {
   "cell_type": "code",
   "execution_count": null,
   "id": "752b55cb-2550-4c58-962b-510681819b82",
   "metadata": {},
   "outputs": [],
   "source": [
    "catboost_pipeline = Pipeline(steps=[\n",
    "        ('preprocessor', preprocessor),\n",
    "        ('classifier', catboost_best)\n",
    "    ])\n"
   ]
  },
  {
   "cell_type": "code",
   "execution_count": null,
   "id": "f0a76762-d4d7-4928-86fc-624ad8a1dfc2",
   "metadata": {},
   "outputs": [],
   "source": [
    "start= datetime.now()\n",
    "print('Текущая время ', start)\n",
    "catboost_pipeline.fit(X,y)\n",
    "print(' время ', datetime.now()-start)"
   ]
  },
  {
   "cell_type": "code",
   "execution_count": null,
   "id": "8a1059ca-404d-44ff-8aab-3791869b568e",
   "metadata": {},
   "outputs": [],
   "source": [
    "catboost_pred_test = catboost_pipeline.predict(X_test)"
   ]
  },
  {
   "cell_type": "code",
   "execution_count": null,
   "id": "de2d151f-78a6-4934-b9e9-fff163b5b44e",
   "metadata": {},
   "outputs": [],
   "source": [
    "catboost_probs = catboost_pipeline.predict_proba(X_test)[:, 1]"
   ]
  },
  {
   "cell_type": "code",
   "execution_count": null,
   "id": "f41b52bc-9ff4-4c41-964c-bbf407b74bb1",
   "metadata": {},
   "outputs": [],
   "source": [
    "print('Итоговая CatBoostClassifier')\n",
    "print('Значение roc_auc на тестовой выборке: ', round(roc_auc_score(y_test, catboost_probs),4)) "
   ]
  },
  {
   "cell_type": "code",
   "execution_count": null,
   "id": "7123ff1b-c82e-4d9c-975e-c38458f7c5db",
   "metadata": {},
   "outputs": [],
   "source": [
    "catboost_feature_names = catboost_pipeline[1].feature_names_\n",
    "\n",
    "catboost_importances = pd.Series(catboost_pipeline[1].feature_importances_, index=catboost_feature_names).sort_values(ascending=True)"
   ]
  },
  {
   "cell_type": "code",
   "execution_count": null,
   "id": "e4638d44-7f4a-4969-9fad-c9a835aa2b31",
   "metadata": {},
   "outputs": [],
   "source": [
    "ax = catboost_importances[-15:].plot.barh(figsize=(10,4))\n",
    "ax.set_title(\"CatBoostClassifier. Важность признаков (топ-15)\")\n",
    "ax.figure.tight_layout()\n"
   ]
  },
  {
   "cell_type": "code",
   "execution_count": null,
   "id": "b6b9538d-ee56-4dd8-a7ba-5a69cdf89186",
   "metadata": {},
   "outputs": [],
   "source": [
    "fpr_cat, tpr_cat, treshold_cat = roc_curve(y_test, catboost_probs)\n",
    "roc_auc_cat = auc(fpr_cat, tpr_cat)\n",
    "\n",
    "plt.figure(figsize=(5, 4))\n",
    "plt.plot(fpr_cat, tpr_cat, color='darkorange',\n",
    "         label='CatBoostClassifier (area = %0.3f)' % roc_auc_cat)\n",
    "plt.plot([0, 1], [0, 1], color='navy', linestyle='--')\n",
    "plt.xlim([0.0, 1.0])\n",
    "plt.ylim([0.0, 1.05])\n",
    "plt.xlabel('False Positive Rate')\n",
    "plt.ylabel('True Positive Rate')\n",
    "plt.title('График ROC-кривой')\n",
    "plt.legend(loc=\"lower right\")\n",
    "plt.show()\n"
   ]
  },
  {
   "cell_type": "code",
   "execution_count": null,
   "id": "5bab8fc8-0240-4091-b156-df5270de9300",
   "metadata": {},
   "outputs": [],
   "source": [
    "def plot_confusion_matrix(cm, classes,\n",
    "                          normalize=False,\n",
    "                          title='Confusion matrix',\n",
    "                          cmap=plt.cm.Blues):\n",
    " \n",
    "    plt.imshow(cm, interpolation='nearest', cmap=cmap)\n",
    "    plt.title(title)\n",
    "    plt.colorbar()\n",
    "    tick_marks = np.arange(len(classes))\n",
    "    plt.xticks(tick_marks, classes, rotation=45)\n",
    "    plt.yticks(tick_marks, classes)\n",
    " \n",
    "    fmt = '.2f' if normalize else 'd'\n",
    "    thresh = cm.max() / 2.\n",
    "    for i, j in itertools.product(range(cm.shape[0]), range(cm.shape[1])):\n",
    "        plt.text(j, i, format(cm[i, j], fmt),\n",
    "                 horizontalalignment=\"center\",\n",
    "                 color=\"white\" if cm[i, j] > thresh else \"black\")\n",
    " \n",
    "    plt.tight_layout()\n",
    "    plt.ylabel('True label')\n",
    "    plt.xlabel('Predicted label')\n",
    "    \n",
    "plot_confusion_matrix(confusion_matrix(y_test, catboost_pred_test), classes=['0','1'], title='CatBoostClassifier')"
   ]
  },
  {
   "cell_type": "code",
   "execution_count": null,
   "id": "9a7dd864-bbfa-40b4-aa85-f62eb255f2fd",
   "metadata": {},
   "outputs": [],
   "source": [
    "print(classification_report(y_test, catboost_pred_test))"
   ]
  },
  {
   "cell_type": "raw",
   "id": "8f4324b0-532e-4b7c-877a-d5dd96284c01",
   "metadata": {},
   "source": [
    "Результат на отложенной тестовой выборке - 0.761"
   ]
  },
  {
   "cell_type": "code",
   "execution_count": null,
   "id": "c25ba855-d259-46e7-96a7-97d68ff0f439",
   "metadata": {},
   "outputs": [],
   "source": [
    "test_sub = pd.DataFrame(data = {\n",
    "    'id': X_test['id'],\n",
    "    'predictions': catboost_pred_test\n",
    "})\n",
    "\n",
    "test_sub.head()\n"
   ]
  },
  {
   "cell_type": "code",
   "execution_count": null,
   "id": "d80619db-a950-486a-b2fb-92ac8c16b457",
   "metadata": {},
   "outputs": [],
   "source": [
    "test_sub.to_csv('test_sub.csv')"
   ]
  },
  {
   "cell_type": "code",
   "execution_count": null,
   "id": "d4af6f0e-938c-45fd-91c6-552bfe047e38",
   "metadata": {},
   "outputs": [],
   "source": [
    "def filter_data(df):\n",
    "    df_temp = df.copy()\n",
    "    columns_to_drop = ['id']\n",
    "\n",
    "    return df_temp.drop(columns_to_drop, axis=1)\n"
   ]
  },
  {
   "cell_type": "code",
   "execution_count": null,
   "id": "979a75af-aee5-47c6-82eb-2e9b5d6c64b8",
   "metadata": {},
   "outputs": [],
   "source": [
    "def new_features(df):\n",
    "    df_temp = df.copy()\n",
    "    df_temp['is_zero_loans_risk'] = df_temp[['is_zero_loans5', 'is_zero_loans530', 'is_zero_loans3060', 'is_zero_loans6090', 'is_zero_loans90']].lt(0.6).sum(axis=1)\n",
    "    df_temp['is_zero_loans_points'] = df_temp['is_zero_loans5']*1 + df_temp['is_zero_loans530']*1.5 + df_temp['is_zero_loans3060']*2 + df_temp['is_zero_loans6090']*2.5 + df_temp['is_zero_loans90']*3\n",
    "    \n",
    "    return df_temp"
   ]
  },
  {
   "cell_type": "code",
   "execution_count": null,
   "id": "663857c4-d748-4dc1-90d0-ce17d8ecf249",
   "metadata": {},
   "outputs": [],
   "source": [
    "preprocessor = Pipeline(steps=[\n",
    "    ('filter', FunctionTransformer(filter_data)),\n",
    "    ('new_features', FunctionTransformer(new_features))])"
   ]
  },
  {
   "cell_type": "code",
   "execution_count": null,
   "id": "004188c7-e357-4532-8deb-48c2ba175860",
   "metadata": {},
   "outputs": [],
   "source": [
    "catboost_best = CatBoostClassifier(max_depth=9, objective='CrossEntropy', min_data_in_leaf=37, \n",
    "                                   learning_rate=0.06553798310275494, random_seed=42)\n"
   ]
  },
  {
   "cell_type": "code",
   "execution_count": null,
   "id": "1131794e-fb91-4847-bff2-1a6db5b7a863",
   "metadata": {},
   "outputs": [],
   "source": [
    "catboost_pipeline = Pipeline(steps=[\n",
    "        ('preprocessor', preprocessor),\n",
    "        ('classifier', catboost_best)\n",
    "    ])\n"
   ]
  },
  {
   "cell_type": "code",
   "execution_count": null,
   "id": "7ee058a4-6158-4e7f-adb1-e04e5833de14",
   "metadata": {},
   "outputs": [],
   "source": [
    "start= datetime.now()\n",
    "print('Текущая время ', start)\n",
    "catboost_pipeline.fit(X,y)\n",
    "print(' время ', datetime.now()-start)"
   ]
  },
  {
   "cell_type": "code",
   "execution_count": null,
   "id": "7e76e6f9-7d58-44df-bf6d-bd5616f6bdbb",
   "metadata": {},
   "outputs": [],
   "source": [
    "with open(path+'credit_risk', 'wb') as file:\n",
    "    dill.dump({\n",
    "        'model': catboost_pipeline,\n",
    "        'metadata': {\n",
    "            'name': 'Credit_risk',\n",
    "            'author': 'Zulfiya Usmonova',\n",
    "            'version': '1',\n",
    "            'date': '10.07.2024',\n",
    "        }\n",
    "    }, file)\n"
   ]
  },
  {
   "cell_type": "raw",
   "id": "2b9da2a3-6548-4a6a-a9fc-3a58b03f603d",
   "metadata": {},
   "source": [
    "Заключениe:\n",
    "\n",
    "LogisticRegression Roc-auc: 0.7329\n",
    "RandomForestClassifier Roc-auc: 0.701\n",
    "CatBoostClassifier Roc-auc: 0.761"
   ]
  },
  {
   "cell_type": "code",
   "execution_count": null,
   "id": "4bf6c399-232f-45ac-8a35-29f342c9c6f1",
   "metadata": {},
   "outputs": [],
   "source": []
  },
  {
   "cell_type": "code",
   "execution_count": null,
   "id": "1f3966a8-007a-41a2-a2e7-d01275c8a315",
   "metadata": {},
   "outputs": [],
   "source": []
  },
  {
   "cell_type": "code",
   "execution_count": null,
   "id": "54188925-712f-4e07-9f50-173229e42b27",
   "metadata": {},
   "outputs": [],
   "source": []
  },
  {
   "cell_type": "code",
   "execution_count": null,
   "id": "b4ccee2b-bae0-49a7-b267-f8d3c79d24d5",
   "metadata": {},
   "outputs": [],
   "source": []
  },
  {
   "cell_type": "code",
   "execution_count": null,
   "id": "5f7ad24d-ba1e-4d47-83ee-963fd76b8bbc",
   "metadata": {},
   "outputs": [],
   "source": []
  },
  {
   "cell_type": "code",
   "execution_count": null,
   "id": "039ff143-7016-4077-98b8-e1af9132a5bf",
   "metadata": {},
   "outputs": [],
   "source": []
  },
  {
   "cell_type": "code",
   "execution_count": null,
   "id": "a6a00fcc-a014-4a32-859b-043313f18926",
   "metadata": {},
   "outputs": [],
   "source": []
  },
  {
   "cell_type": "code",
   "execution_count": null,
   "id": "3014358f-0776-4053-8ee5-230595e6302c",
   "metadata": {},
   "outputs": [],
   "source": []
  }
 ],
 "metadata": {
  "kernelspec": {
   "display_name": "Python 3 (ipykernel)",
   "language": "python",
   "name": "python3"
  },
  "language_info": {
   "codemirror_mode": {
    "name": "ipython",
    "version": 3
   },
   "file_extension": ".py",
   "mimetype": "text/x-python",
   "name": "python",
   "nbconvert_exporter": "python",
   "pygments_lexer": "ipython3",
   "version": "3.12.4"
  }
 },
 "nbformat": 4,
 "nbformat_minor": 5
}
